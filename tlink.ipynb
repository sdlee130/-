{
 "cells": [
  {
   "cell_type": "code",
   "execution_count": 2,
   "id": "a072bbf7",
   "metadata": {
    "scrolled": true
   },
   "outputs": [
    {
     "name": "stdout",
     "output_type": "stream",
     "text": [
      "Requirement already satisfied: seqeval in /home/sdlee130/venv/lib/python3.8/site-packages (1.2.2)\n",
      "Requirement already satisfied: scikit-learn>=0.21.3 in /home/sdlee130/venv/lib/python3.8/site-packages (from seqeval) (1.1.2)\n",
      "Requirement already satisfied: numpy>=1.14.0 in /home/sdlee130/venv/lib/python3.8/site-packages (from seqeval) (1.23.0)\n",
      "Requirement already satisfied: joblib>=1.0.0 in /home/sdlee130/venv/lib/python3.8/site-packages (from scikit-learn>=0.21.3->seqeval) (1.1.0)\n",
      "Requirement already satisfied: scipy>=1.3.2 in /home/sdlee130/venv/lib/python3.8/site-packages (from scikit-learn>=0.21.3->seqeval) (1.9.0)\n",
      "Requirement already satisfied: threadpoolctl>=2.0.0 in /home/sdlee130/venv/lib/python3.8/site-packages (from scikit-learn>=0.21.3->seqeval) (3.1.0)\n"
     ]
    }
   ],
   "source": [
    "#!pip3 install tqdm\n",
    "#!pip3 install git+https://git@github.com/SKTBrain/KoBERT.git@master\n",
    "#!pip3 install seqeval"
   ]
  },
  {
   "cell_type": "code",
   "execution_count": 3,
   "id": "372a29bc",
   "metadata": {},
   "outputs": [],
   "source": [
    "import torch\n",
    "from torch import nn\n",
    "import torch.nn.functional as F\n",
    "import torch.optim as optim\n",
    "from torch.utils.data import Dataset, DataLoader\n",
    "import numpy as np\n",
    "import argparse\n",
    "#import gluonnlp as nlp\n",
    "from tqdm.notebook import tqdm\n",
    "from transformers import AdamW\n",
    "from transformers.optimization import get_cosine_schedule_with_warmup"
   ]
  },
  {
   "cell_type": "code",
   "execution_count": null,
   "id": "458c13ac",
   "metadata": {},
   "outputs": [],
   "source": []
  }
 ],
 "metadata": {
  "kernelspec": {
   "display_name": "Python 3 (ipykernel)",
   "language": "python",
   "name": "python3"
  },
  "language_info": {
   "codemirror_mode": {
    "name": "ipython",
    "version": 3
   },
   "file_extension": ".py",
   "mimetype": "text/x-python",
   "name": "python",
   "nbconvert_exporter": "python",
   "pygments_lexer": "ipython3",
   "version": "3.8.10"
  }
 },
 "nbformat": 4,
 "nbformat_minor": 5
}
