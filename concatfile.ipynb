{
 "cells": [
  {
   "cell_type": "code",
   "execution_count": 1,
   "id": "542e3e2e",
   "metadata": {},
   "outputs": [],
   "source": [
    "import os"
   ]
  },
  {
   "cell_type": "code",
   "execution_count": 2,
   "id": "dc4b6479",
   "metadata": {},
   "outputs": [],
   "source": [
    "# 파일이름 받아오기\n",
    "\n",
    "text_name = [\"chat\", \"news\"]\n",
    "file_list = []\n",
    "for i in range(len(text_name)):\n",
    "    file_list.append(os.listdir(\"./data/biotag/\"+text_name[i]))"
   ]
  },
  {
   "cell_type": "code",
   "execution_count": 3,
   "id": "b98ee6c1",
   "metadata": {},
   "outputs": [],
   "source": [
    "filename_list = [[] for i in range(len(text_name))]\n",
    "\n",
    "for i in range(len(text_name)):\n",
    "    for j in range(len(file_list[i])):\n",
    "        filenameSplit = file_list[i][j].split('.')\n",
    "        if filenameSplit[-1] == 'txt':\n",
    "            filename_list[i].append(file_list[i][j])"
   ]
  },
  {
   "cell_type": "code",
   "execution_count": 4,
   "id": "f48ca9f0",
   "metadata": {
    "scrolled": true
   },
   "outputs": [
    {
     "data": {
      "text/plain": [
       "['대화12-d8679247.txt',\n",
       " '대화04-35c9421e.txt',\n",
       " '대화09-7dab8db4.txt',\n",
       " '대화05-4ec686e4.txt',\n",
       " '대화02-1ac4b34b.txt',\n",
       " '대화03-2ca063cb.txt',\n",
       " '대화08-5f38abfb.txt',\n",
       " '대화13-ed066712.txt',\n",
       " '대화07-5e938466.txt',\n",
       " '대화06-5d4f682c.txt',\n",
       " '대화10-bc57d852.txt',\n",
       " '대화11-bfc0f894.txt',\n",
       " '대화01-01397ada.txt']"
      ]
     },
     "execution_count": 4,
     "metadata": {},
     "output_type": "execute_result"
    }
   ],
   "source": [
    "filename_list[0]"
   ]
  },
  {
   "cell_type": "code",
   "execution_count": 6,
   "id": "51ecb056",
   "metadata": {
    "scrolled": true
   },
   "outputs": [
    {
     "data": {
      "text/plain": [
       "['매일경제006.txt',\n",
       " '매일경제030.txt',\n",
       " '매일경제038.txt',\n",
       " '매일경제022.txt',\n",
       " '매일경제035.txt',\n",
       " '매일경제032.txt',\n",
       " '매일경제019.txt',\n",
       " '매일경제018.txt',\n",
       " '매일경제007.txt',\n",
       " '매일경제026.txt',\n",
       " '매일경제040.txt',\n",
       " '매일경제017.txt',\n",
       " '매일경제009.txt',\n",
       " '매일경제010.txt',\n",
       " '매일경제020.txt',\n",
       " '매일경제036.txt',\n",
       " '매일경제012.txt',\n",
       " '매일경제042.txt',\n",
       " '매일경제013.txt',\n",
       " '매일경제014.txt',\n",
       " '매일경제025.txt',\n",
       " '매일경제029.txt',\n",
       " '매일경제034.txt',\n",
       " '매일경제016.txt',\n",
       " '매일경제033.txt',\n",
       " '매일경제005.txt',\n",
       " '매일경제004.txt',\n",
       " '매일경제037.txt',\n",
       " '매일경제015.txt',\n",
       " '매일경제003.txt',\n",
       " '매일경제001.txt',\n",
       " '매일경제044.txt',\n",
       " '매일경제028.txt',\n",
       " '매일경제002.txt',\n",
       " '매일경제008.txt',\n",
       " '매일경제024.txt',\n",
       " '매일경제041.txt',\n",
       " '매일경제027.txt',\n",
       " '매일경제021.txt',\n",
       " '매일경제011.txt',\n",
       " '매일경제039.txt',\n",
       " '매일경제023.txt',\n",
       " '매일경제031.txt',\n",
       " '매일경제043.txt']"
      ]
     },
     "execution_count": 6,
     "metadata": {},
     "output_type": "execute_result"
    }
   ],
   "source": [
    "filename_list[1]"
   ]
  },
  {
   "cell_type": "code",
   "execution_count": null,
   "id": "89f6e3ea",
   "metadata": {},
   "outputs": [],
   "source": []
  }
 ],
 "metadata": {
  "kernelspec": {
   "display_name": "Python 3 (ipykernel)",
   "language": "python",
   "name": "python3"
  },
  "language_info": {
   "codemirror_mode": {
    "name": "ipython",
    "version": 3
   },
   "file_extension": ".py",
   "mimetype": "text/x-python",
   "name": "python",
   "nbconvert_exporter": "python",
   "pygments_lexer": "ipython3",
   "version": "3.8.10"
  }
 },
 "nbformat": 4,
 "nbformat_minor": 5
}
