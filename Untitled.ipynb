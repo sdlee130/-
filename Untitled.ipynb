{
 "cells": [
  {
   "cell_type": "code",
   "execution_count": 1,
   "id": "ac19cc14",
   "metadata": {},
   "outputs": [],
   "source": [
    "import json"
   ]
  },
  {
   "cell_type": "code",
   "execution_count": 15,
   "id": "e72e41d3",
   "metadata": {},
   "outputs": [],
   "source": [
    "slep = {\"a\":{\"ㄱ\":1, \"ㄴ\":2, \"ㄷ\":3, \"ㄹ\":4}, \"b\":[1, 2, 3, 4], \"c\":3, \"d\":4, \"e\":5, \"f\":6, \"g\":7, \"h\":8, \"i\":9}"
   ]
  },
  {
   "cell_type": "code",
   "execution_count": 17,
   "id": "04c58f19",
   "metadata": {},
   "outputs": [],
   "source": [
    "temp = json.dumps(slep, indent=2, sort_keys=True)"
   ]
  },
  {
   "cell_type": "code",
   "execution_count": 18,
   "id": "aa5ad81b",
   "metadata": {},
   "outputs": [
    {
     "name": "stdout",
     "output_type": "stream",
     "text": [
      "{\n",
      "  \"a\": {\n",
      "    \"\\u3131\": 1,\n",
      "    \"\\u3134\": 2,\n",
      "    \"\\u3137\": 3,\n",
      "    \"\\u3139\": 4\n",
      "  },\n",
      "  \"b\": [\n",
      "    1,\n",
      "    2,\n",
      "    3,\n",
      "    4\n",
      "  ],\n",
      "  \"c\": 3,\n",
      "  \"d\": 4,\n",
      "  \"e\": 5,\n",
      "  \"f\": 6,\n",
      "  \"g\": 7,\n",
      "  \"h\": 8,\n",
      "  \"i\": 9\n",
      "}\n",
      "<class 'str'>\n"
     ]
    }
   ],
   "source": [
    "print(temp)\n",
    "print(type(temp))"
   ]
  },
  {
   "cell_type": "code",
   "execution_count": null,
   "id": "8426069d",
   "metadata": {},
   "outputs": [],
   "source": []
  }
 ],
 "metadata": {
  "kernelspec": {
   "display_name": "Python 3 (ipykernel)",
   "language": "python",
   "name": "python3"
  },
  "language_info": {
   "codemirror_mode": {
    "name": "ipython",
    "version": 3
   },
   "file_extension": ".py",
   "mimetype": "text/x-python",
   "name": "python",
   "nbconvert_exporter": "python",
   "pygments_lexer": "ipython3",
   "version": "3.8.10"
  }
 },
 "nbformat": 4,
 "nbformat_minor": 5
}
