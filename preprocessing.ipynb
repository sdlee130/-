{
 "cells": [
  {
   "cell_type": "code",
   "execution_count": 1,
   "id": "ced162a1",
   "metadata": {},
   "outputs": [],
   "source": [
    "import json\n",
    "import os"
   ]
  },
  {
   "cell_type": "code",
   "execution_count": 2,
   "id": "ca1bf1da",
   "metadata": {},
   "outputs": [],
   "source": [
    "def ParsingJson(textname, filename):\n",
    "    with open(\"./data/raw/sample/\"+textname+\"/\"+filename+\".json\", \"r\", encoding=\"utf8\") as f:\n",
    "        contents = f.read()\n",
    "        file = json.loads(contents)\n",
    "    keyJson = []\n",
    "    if textname==\"chat\":\n",
    "        keyJson = \"utterances\"\n",
    "    elif textname==\"news\":\n",
    "        keyJson = \"sentences\"\n",
    "    \n",
    "    countSentences = len(file[keyJson])\n",
    "    \n",
    "    result_list = []\n",
    "    \n",
    "    for k in range(countSentences):\n",
    "        sentence = file[key][k][\"text\"]\n",
    "\n",
    "        len_timex3 = len(file[key][k][\"timex3\"])\n",
    "        len_event = len(file[key][k][\"event\"])\n",
    "        info_list = [[] for i in range(len_event+len_timex3)]\n",
    "\n",
    "        for i in range(len_event):\n",
    "            event_s, event_e = file[key][k][\"event\"][i][\"extent\"]\n",
    "            info_list[i].append(event_s)\n",
    "            info_list[i].append(event_e)\n",
    "            info_list[i].append('EVENT')\n",
    "\n",
    "        for i in range(len_timex3):\n",
    "            print(\"i:\", i, \"k:\", k)\n",
    "            timex3_s, timex3_e = file[key][k][\"timex3\"][i][\"extent\"]\n",
    "            info_list[i+len_event].append(timex3_s)\n",
    "            info_list[i+len_event].append(timex3_e)\n",
    "            info_list[i+len_event].append(file[key][k][\"timex3\"][i][\"type\"])\n",
    "\n",
    "        info_list.sort()\n",
    "\n",
    "        named_entity = [0 for i in range(len(sentence))]\n",
    "        for i in range(len(info_list)):\n",
    "            start = info_list[i][0]\n",
    "            end = info_list[i][1]\n",
    "            netype = info_list[i][2]\n",
    "            BorI = True\n",
    "            for j in range(start, end):\n",
    "                if BorI:\n",
    "                    named_entity[j] = (netype, '-B')\n",
    "                    BorI = False\n",
    "                else:\n",
    "                    named_entity[j] = (netype, '-I')\n",
    "\n",
    "        label = []\n",
    "        for i in range(len(sentence)):\n",
    "            if named_entity[i]:\n",
    "                label.append(named_entity[i][0]+named_entity[i][1])\n",
    "            else:\n",
    "                label.append('O')\n",
    "            \n",
    "        result = sentence + '\\t'\n",
    "        for i in range(len(label)):\n",
    "            result += label[i] + ' '\n",
    "        result = result.strip()\n",
    "        result_list.append(result)\n",
    "        \n",
    "    return result_list"
   ]
  },
  {
   "cell_type": "code",
   "execution_count": 3,
   "id": "44f6d63b",
   "metadata": {},
   "outputs": [],
   "source": [
    "def saveTxt(textname, filename, res):\n",
    "    f = open(\"./data/biotag/\"+textname+\"/\"+filename+\"txt\", \"w\")\n",
    "    for i in range(len(res)):\n",
    "        f.write(res[i]+'\\n')\n",
    "    f.close()"
   ]
  },
  {
   "cell_type": "code",
   "execution_count": 4,
   "id": "0da26207",
   "metadata": {},
   "outputs": [],
   "source": [
    "# 파일이름 받아오기\n",
    "\n",
    "text_name = [\"chat\", \"news\"]\n",
    "file_list = []\n",
    "for i in range(len(text_name)):\n",
    "    file_list.append(os.listdir(\"./data/raw/sample/\"+text_name[i]))"
   ]
  },
  {
   "cell_type": "code",
   "execution_count": 5,
   "id": "ea30795b",
   "metadata": {},
   "outputs": [],
   "source": [
    "for i in range(len(file_list)):\n",
    "    for j in range(len(file_list[i])):\n",
    "        file_list[i][j] = file_list[i][j].split('.')[0]"
   ]
  },
  {
   "cell_type": "code",
   "execution_count": 6,
   "id": "f70f0f0d",
   "metadata": {},
   "outputs": [
    {
     "name": "stdout",
     "output_type": "stream",
     "text": [
      "['대화06-5d4f682c', '대화07-5e938466', '대화05-4ec686e4', '대화03-2ca063cb', '대화01-01397ada', '대화11-bfc0f894', '대화10-bc57d852', '대화13-ed066712', '대화04-35c9421e', '대화12-d8679247', '대화02-1ac4b34b', '대화08-5f38abfb', '대화09-7dab8db4']\n"
     ]
    }
   ],
   "source": [
    "print(file_list[0])"
   ]
  },
  {
   "cell_type": "code",
   "execution_count": 7,
   "id": "73b7a0ef",
   "metadata": {},
   "outputs": [
    {
     "ename": "FileNotFoundError",
     "evalue": "[Errno 2] No such file or directory: './data/raw/sample/chat/대화06-5d4f682c.json'",
     "output_type": "error",
     "traceback": [
      "\u001b[0;31m---------------------------------------------------------------------------\u001b[0m",
      "\u001b[0;31mFileNotFoundError\u001b[0m                         Traceback (most recent call last)",
      "Input \u001b[0;32mIn [7]\u001b[0m, in \u001b[0;36m<cell line: 3>\u001b[0;34m()\u001b[0m\n\u001b[1;32m      3\u001b[0m \u001b[38;5;28;01mfor\u001b[39;00m i \u001b[38;5;129;01min\u001b[39;00m \u001b[38;5;28mrange\u001b[39m(\u001b[38;5;28mlen\u001b[39m(file_list)):\n\u001b[1;32m      4\u001b[0m     \u001b[38;5;28;01mfor\u001b[39;00m j \u001b[38;5;129;01min\u001b[39;00m \u001b[38;5;28mrange\u001b[39m(\u001b[38;5;28mlen\u001b[39m(file_list[i])):\n\u001b[0;32m----> 5\u001b[0m         result \u001b[38;5;241m=\u001b[39m \u001b[43mParsingJson\u001b[49m\u001b[43m(\u001b[49m\u001b[43mtext_name\u001b[49m\u001b[43m[\u001b[49m\u001b[43mi\u001b[49m\u001b[43m]\u001b[49m\u001b[43m,\u001b[49m\u001b[43m \u001b[49m\u001b[43mfile_list\u001b[49m\u001b[43m[\u001b[49m\u001b[43mi\u001b[49m\u001b[43m]\u001b[49m\u001b[43m[\u001b[49m\u001b[43mj\u001b[49m\u001b[43m]\u001b[49m\u001b[43m)\u001b[49m\n\u001b[1;32m      6\u001b[0m         saveTxt(text_name[i], file_list[i][j], result)\n",
      "Input \u001b[0;32mIn [2]\u001b[0m, in \u001b[0;36mParsingJson\u001b[0;34m(textname, filename)\u001b[0m\n\u001b[1;32m      1\u001b[0m \u001b[38;5;28;01mdef\u001b[39;00m \u001b[38;5;21mParsingJson\u001b[39m(textname, filename):\n\u001b[0;32m----> 2\u001b[0m     \u001b[38;5;28;01mwith\u001b[39;00m \u001b[38;5;28;43mopen\u001b[39;49m\u001b[43m(\u001b[49m\u001b[38;5;124;43m\"\u001b[39;49m\u001b[38;5;124;43m./data/raw/sample/\u001b[39;49m\u001b[38;5;124;43m\"\u001b[39;49m\u001b[38;5;241;43m+\u001b[39;49m\u001b[43mtextname\u001b[49m\u001b[38;5;241;43m+\u001b[39;49m\u001b[38;5;124;43m\"\u001b[39;49m\u001b[38;5;124;43m/\u001b[39;49m\u001b[38;5;124;43m\"\u001b[39;49m\u001b[38;5;241;43m+\u001b[39;49m\u001b[43mfilename\u001b[49m\u001b[38;5;241;43m+\u001b[39;49m\u001b[38;5;124;43m\"\u001b[39;49m\u001b[38;5;124;43m.json\u001b[39;49m\u001b[38;5;124;43m\"\u001b[39;49m\u001b[43m,\u001b[49m\u001b[43m \u001b[49m\u001b[38;5;124;43m\"\u001b[39;49m\u001b[38;5;124;43mr\u001b[39;49m\u001b[38;5;124;43m\"\u001b[39;49m\u001b[43m,\u001b[49m\u001b[43m \u001b[49m\u001b[43mencoding\u001b[49m\u001b[38;5;241;43m=\u001b[39;49m\u001b[38;5;124;43m\"\u001b[39;49m\u001b[38;5;124;43mutf8\u001b[39;49m\u001b[38;5;124;43m\"\u001b[39;49m\u001b[43m)\u001b[49m \u001b[38;5;28;01mas\u001b[39;00m f:\n\u001b[1;32m      3\u001b[0m         contents \u001b[38;5;241m=\u001b[39m f\u001b[38;5;241m.\u001b[39mread()\n\u001b[1;32m      4\u001b[0m         file \u001b[38;5;241m=\u001b[39m json\u001b[38;5;241m.\u001b[39mloads(contents)\n",
      "\u001b[0;31mFileNotFoundError\u001b[0m: [Errno 2] No such file or directory: './data/raw/sample/chat/대화06-5d4f682c.json'"
     ]
    }
   ],
   "source": [
    "# json파일에서 데이터 추출하기\n",
    "\n",
    "for i in range(len(file_list)):\n",
    "    for j in range(len(file_list[i])):\n",
    "        result = ParsingJson(text_name[i], file_list[i][j])\n",
    "        saveTxt(text_name[i], file_list[i][j], result)"
   ]
  },
  {
   "cell_type": "code",
   "execution_count": null,
   "id": "64f34de6",
   "metadata": {},
   "outputs": [],
   "source": []
  }
 ],
 "metadata": {
  "kernelspec": {
   "display_name": "Python 3 (ipykernel)",
   "language": "python",
   "name": "python3"
  },
  "language_info": {
   "codemirror_mode": {
    "name": "ipython",
    "version": 3
   },
   "file_extension": ".py",
   "mimetype": "text/x-python",
   "name": "python",
   "nbconvert_exporter": "python",
   "pygments_lexer": "ipython3",
   "version": "3.8.10"
  }
 },
 "nbformat": 4,
 "nbformat_minor": 5
}
