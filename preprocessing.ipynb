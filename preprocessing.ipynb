{
 "cells": [
  {
   "cell_type": "code",
   "execution_count": 1,
   "id": "ced162a1",
   "metadata": {},
   "outputs": [],
   "source": [
    "import json"
   ]
  },
  {
   "cell_type": "code",
   "execution_count": null,
   "id": "ca1bf1da",
   "metadata": {},
   "outputs": [],
   "source": [
    "def ParsingJson(textname, filename):\n",
    "    with open(\"./data/sample/\"+textname+\"/\"+filename, \"r\", encoding=\"utf8\") as f:\n",
    "        contents = f.read()\n",
    "        file = json.loads(contents)\n",
    "    keyJson = []\n",
    "    if textname==\"chat\":\n",
    "        keyJson = \"utterances\"\n",
    "    elif textname==\"news\":\n",
    "        keyJson = \"sentences\"\n",
    "    \n",
    "    countSentences = len(file[keyJson])\n",
    "    \n",
    "    result_list = []\n",
    "    \n",
    "    for k in range(countSentences):\n",
    "        sentence = file[key][k][\"text\"]\n",
    "\n",
    "        len_timex3 = len(file[key][k][\"timex3\"])\n",
    "        len_event = len(file[key][k][\"event\"])\n",
    "        info_list = [[] for i in range(len_event+len_timex3)]\n",
    "\n",
    "        for i in range(len_event):\n",
    "            event_s, event_e = file[key][k][\"event\"][i][\"extent\"]\n",
    "            info_list[i].append(event_s)\n",
    "            info_list[i].append(event_e)\n",
    "            info_list[i].append('EVENT')\n",
    "\n",
    "        for i in range(len_timex3):\n",
    "            print(\"i:\", i, \"k:\", k)\n",
    "            timex3_s, timex3_e = file[key][k][\"timex3\"][i][\"extent\"]\n",
    "            info_list[i+len_event].append(timex3_s)\n",
    "            info_list[i+len_event].append(timex3_e)\n",
    "            info_list[i+len_event].append(file[key][k][\"timex3\"][i][\"type\"])\n",
    "\n",
    "        info_list.sort()\n",
    "\n",
    "        named_entity = [0 for i in range(len(sentence))]\n",
    "        for i in range(len(info_list)):\n",
    "            start = info_list[i][0]\n",
    "            end = info_list[i][1]\n",
    "            netype = info_list[i][2]\n",
    "            BorI = True\n",
    "            for j in range(start, end):\n",
    "                if BorI:\n",
    "                    named_entity[j] = (netype, '-B')\n",
    "                    BorI = False\n",
    "                else:\n",
    "                    named_entity[j] = (netype, '-I')\n",
    "\n",
    "        label = []\n",
    "        for i in range(len(sentence)):\n",
    "            if named_entity[i]:\n",
    "                label.append(named_entity[i][0]+named_entity[i][1])\n",
    "            else:\n",
    "                label.append('O')\n",
    "            \n",
    "        result = sentence + '\\t'\n",
    "        for i in range(len(label)):\n",
    "            result += label[i] + ' '\n",
    "        result = result.strip()\n",
    "        result_list.append(result)\n",
    "        \n",
    "    return result_list"
   ]
  }
 ],
 "metadata": {
  "kernelspec": {
   "display_name": "Python 3 (ipykernel)",
   "language": "python",
   "name": "python3"
  },
  "language_info": {
   "codemirror_mode": {
    "name": "ipython",
    "version": 3
   },
   "file_extension": ".py",
   "mimetype": "text/x-python",
   "name": "python",
   "nbconvert_exporter": "python",
   "pygments_lexer": "ipython3",
   "version": "3.8.10"
  }
 },
 "nbformat": 4,
 "nbformat_minor": 5
}
