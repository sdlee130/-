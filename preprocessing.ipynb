{
 "cells": [
  {
   "cell_type": "code",
   "execution_count": 1,
   "id": "ced162a1",
   "metadata": {},
   "outputs": [],
   "source": [
    "import json"
   ]
  },
  {
   "cell_type": "code",
   "execution_count": null,
   "id": "c6c0e771",
   "metadata": {},
   "outputs": [],
   "source": [
    "def ParsingJson(textname, filename):\n",
    "    with open(\"./data/sample/\"+textname+\"/\"+filename, \"r\", encoding=\"utf8\") as f:\n",
    "        contents = f.read()\n",
    "        chat = json.loads(contents)\n",
    "    keyJson = []\n",
    "    if textname==\"chat\":\n",
    "        keyJson = \"utterances\"\n",
    "    elif textname==\"news\":\n",
    "        keyJson = \"sentences\"\n",
    "    \n",
    "    countSentences = len(file[keyJson])\n",
    "    \n",
    "    result_list = []\n",
    "    \n",
    "    "
   ]
  }
 ],
 "metadata": {
  "kernelspec": {
   "display_name": "Python 3 (ipykernel)",
   "language": "python",
   "name": "python3"
  },
  "language_info": {
   "codemirror_mode": {
    "name": "ipython",
    "version": 3
   },
   "file_extension": ".py",
   "mimetype": "text/x-python",
   "name": "python",
   "nbconvert_exporter": "python",
   "pygments_lexer": "ipython3",
   "version": "3.8.10"
  }
 },
 "nbformat": 4,
 "nbformat_minor": 5
}
