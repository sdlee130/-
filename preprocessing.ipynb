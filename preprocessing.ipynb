{
 "cells": [
  {
   "cell_type": "code",
   "execution_count": 1,
   "id": "ced162a1",
   "metadata": {},
   "outputs": [],
   "source": [
    "import json\n",
    "import os"
   ]
  },
  {
   "cell_type": "code",
   "execution_count": 2,
   "id": "ca1bf1da",
   "metadata": {},
   "outputs": [],
   "source": [
    "def ParsingJson(textname, filename):\n",
    "    with open(\"./data/raw/sample/\"+textname+\"/\"+filename+\".json\", \"r\", encoding=\"utf8\") as f:\n",
    "        contents = f.read()\n",
    "        file = json.loads(contents)\n",
    "    keyJson = []\n",
    "    if textname==\"chat\":\n",
    "        keyJson = \"utterances\"\n",
    "    elif textname==\"news\":\n",
    "        keyJson = \"sentences\"\n",
    "    \n",
    "    countSentences = len(file[keyJson])\n",
    "    \n",
    "    result_list = []\n",
    "    \n",
    "    for k in range(countSentences):\n",
    "        sentence = file[keyJson][k][\"text\"]\n",
    "\n",
    "        len_timex3 = len(file[keyJson][k][\"timex3\"])\n",
    "        len_event = len(file[keyJson][k][\"event\"])\n",
    "        info_list = [[] for i in range(len_event+len_timex3)]\n",
    "\n",
    "        for i in range(len_event):\n",
    "            event_s, event_e = file[keyJson][k][\"event\"][i][\"extent\"]\n",
    "            info_list[i].append(event_s)\n",
    "            info_list[i].append(event_e)\n",
    "            info_list[i].append('EVENT')\n",
    "\n",
    "        for i in range(len_timex3):\n",
    "            print(\"i:\", i, \"k:\", k)\n",
    "            timex3_s, timex3_e = file[keyJson][k][\"timex3\"][i][\"extent\"]\n",
    "            info_list[i+len_event].append(timex3_s)\n",
    "            info_list[i+len_event].append(timex3_e)\n",
    "            info_list[i+len_event].append(file[key][k][\"timex3\"][i][\"type\"])\n",
    "\n",
    "        info_list.sort()\n",
    "\n",
    "        named_entity = [0 for i in range(len(sentence))]\n",
    "        for i in range(len(info_list)):\n",
    "            start = info_list[i][0]\n",
    "            end = info_list[i][1]\n",
    "            netype = info_list[i][2]\n",
    "            BorI = True\n",
    "            for j in range(start, end):\n",
    "                if BorI:\n",
    "                    named_entity[j] = (netype, '-B')\n",
    "                    BorI = False\n",
    "                else:\n",
    "                    named_entity[j] = (netype, '-I')\n",
    "\n",
    "        label = []\n",
    "        for i in range(len(sentence)):\n",
    "            if named_entity[i]:\n",
    "                label.append(named_entity[i][0]+named_entity[i][1])\n",
    "            else:\n",
    "                label.append('O')\n",
    "            \n",
    "        result = sentence + '\\t'\n",
    "        for i in range(len(label)):\n",
    "            result += label[i] + ' '\n",
    "        result = result.strip()\n",
    "        result_list.append(result)\n",
    "        \n",
    "    return result_list"
   ]
  },
  {
   "cell_type": "code",
   "execution_count": 3,
   "id": "ffabedc0",
   "metadata": {},
   "outputs": [],
   "source": [
    "def saveTxt(textname, filename, res):\n",
    "    f = open(\"./data/biotag/\"+textname+\"/\"+filename+\"txt\", \"w\")\n",
    "    for i in range(len(res)):\n",
    "        f.write(res[i]+'\\n')\n",
    "    f.close()"
   ]
  },
  {
   "cell_type": "code",
   "execution_count": 4,
   "id": "f863b0c2",
   "metadata": {},
   "outputs": [],
   "source": [
    "# 파일이름 받아오기\n",
    "\n",
    "text_name = [\"chat\", \"news\"]\n",
    "file_list = []\n",
    "for i in range(len(text_name)):\n",
    "    file_list.append(os.listdir(\"./data/raw/sample/\"+text_name[i]))"
   ]
  },
  {
   "cell_type": "code",
   "execution_count": 5,
   "id": "4d144cff",
   "metadata": {},
   "outputs": [],
   "source": [
    "for i in range(len(file_list)):\n",
    "    for j in range(len(file_list[i])):\n",
    "        listFilename = file_list[i][j].split('.')[:-1]\n",
    "        file_list[i][j] = listFilename[0] + '.' + listFilename[1]"
   ]
  },
  {
   "cell_type": "code",
   "execution_count": 6,
   "id": "93b3fc35",
   "metadata": {},
   "outputs": [
    {
     "name": "stdout",
     "output_type": "stream",
     "text": [
      "['대화06-5d4f682c.txt', '대화07-5e938466.txt', '대화05-4ec686e4.txt', '대화03-2ca063cb.txt', '대화01-01397ada.txt', '대화11-bfc0f894.txt', '대화10-bc57d852.txt', '대화13-ed066712.txt', '대화04-35c9421e.txt', '대화12-d8679247.txt', '대화02-1ac4b34b.txt', '대화08-5f38abfb.txt', '대화09-7dab8db4.txt']\n"
     ]
    }
   ],
   "source": [
    "print(file_list[0])"
   ]
  },
  {
   "cell_type": "code",
   "execution_count": 7,
   "id": "3d91b4ad",
   "metadata": {},
   "outputs": [
    {
     "ename": "NameError",
     "evalue": "name 'key' is not defined",
     "output_type": "error",
     "traceback": [
      "\u001b[0;31m---------------------------------------------------------------------------\u001b[0m",
      "\u001b[0;31mNameError\u001b[0m                                 Traceback (most recent call last)",
      "Input \u001b[0;32mIn [7]\u001b[0m, in \u001b[0;36m<cell line: 3>\u001b[0;34m()\u001b[0m\n\u001b[1;32m      3\u001b[0m \u001b[38;5;28;01mfor\u001b[39;00m i \u001b[38;5;129;01min\u001b[39;00m \u001b[38;5;28mrange\u001b[39m(\u001b[38;5;28mlen\u001b[39m(file_list)):\n\u001b[1;32m      4\u001b[0m     \u001b[38;5;28;01mfor\u001b[39;00m j \u001b[38;5;129;01min\u001b[39;00m \u001b[38;5;28mrange\u001b[39m(\u001b[38;5;28mlen\u001b[39m(file_list[i])):\n\u001b[0;32m----> 5\u001b[0m         result \u001b[38;5;241m=\u001b[39m \u001b[43mParsingJson\u001b[49m\u001b[43m(\u001b[49m\u001b[43mtext_name\u001b[49m\u001b[43m[\u001b[49m\u001b[43mi\u001b[49m\u001b[43m]\u001b[49m\u001b[43m,\u001b[49m\u001b[43m \u001b[49m\u001b[43mfile_list\u001b[49m\u001b[43m[\u001b[49m\u001b[43mi\u001b[49m\u001b[43m]\u001b[49m\u001b[43m[\u001b[49m\u001b[43mj\u001b[49m\u001b[43m]\u001b[49m\u001b[43m)\u001b[49m\n\u001b[1;32m      6\u001b[0m         saveTxt(text_name[i], file_list[i][j], result)\n",
      "Input \u001b[0;32mIn [2]\u001b[0m, in \u001b[0;36mParsingJson\u001b[0;34m(textname, filename)\u001b[0m\n\u001b[1;32m     13\u001b[0m result_list \u001b[38;5;241m=\u001b[39m []\n\u001b[1;32m     15\u001b[0m \u001b[38;5;28;01mfor\u001b[39;00m k \u001b[38;5;129;01min\u001b[39;00m \u001b[38;5;28mrange\u001b[39m(countSentences):\n\u001b[0;32m---> 16\u001b[0m     sentence \u001b[38;5;241m=\u001b[39m file[\u001b[43mkey\u001b[49m][k][\u001b[38;5;124m\"\u001b[39m\u001b[38;5;124mtext\u001b[39m\u001b[38;5;124m\"\u001b[39m]\n\u001b[1;32m     18\u001b[0m     len_timex3 \u001b[38;5;241m=\u001b[39m \u001b[38;5;28mlen\u001b[39m(file[key][k][\u001b[38;5;124m\"\u001b[39m\u001b[38;5;124mtimex3\u001b[39m\u001b[38;5;124m\"\u001b[39m])\n\u001b[1;32m     19\u001b[0m     len_event \u001b[38;5;241m=\u001b[39m \u001b[38;5;28mlen\u001b[39m(file[key][k][\u001b[38;5;124m\"\u001b[39m\u001b[38;5;124mevent\u001b[39m\u001b[38;5;124m\"\u001b[39m])\n",
      "\u001b[0;31mNameError\u001b[0m: name 'key' is not defined"
     ]
    }
   ],
   "source": [
    "# json파일에서 데이터 추출하기\n",
    "\n",
    "for i in range(len(file_list)):\n",
    "    for j in range(len(file_list[i])):\n",
    "        result = ParsingJson(text_name[i], file_list[i][j])\n",
    "        saveTxt(text_name[i], file_list[i][j], result)"
   ]
  },
  {
   "cell_type": "code",
   "execution_count": null,
   "id": "5af4b671",
   "metadata": {},
   "outputs": [],
   "source": []
  }
 ],
 "metadata": {
  "kernelspec": {
   "display_name": "Python 3 (ipykernel)",
   "language": "python",
   "name": "python3"
  },
  "language_info": {
   "codemirror_mode": {
    "name": "ipython",
    "version": 3
   },
   "file_extension": ".py",
   "mimetype": "text/x-python",
   "name": "python",
   "nbconvert_exporter": "python",
   "pygments_lexer": "ipython3",
   "version": "3.8.10"
  }
 },
 "nbformat": 4,
 "nbformat_minor": 5
}
