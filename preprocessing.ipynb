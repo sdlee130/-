{
 "cells": [
  {
   "cell_type": "code",
   "execution_count": 1,
   "id": "ced162a1",
   "metadata": {},
   "outputs": [],
   "source": [
    "import json\n",
    "import os"
   ]
  },
  {
   "cell_type": "code",
   "execution_count": null,
   "id": "ca1bf1da",
   "metadata": {},
   "outputs": [],
   "source": [
    "def ParsingJson(textname, filename):\n",
    "    with open(\"./data/raw/sample/\"+textname+\"/\"+filename+\".json\", \"r\", encoding=\"utf8\") as f:\n",
    "        contents = f.read()\n",
    "        file = json.loads(contents)\n",
    "    keyJson = []\n",
    "    if textname==\"chat\":\n",
    "        keyJson = \"utterances\"\n",
    "    elif textname==\"news\":\n",
    "        keyJson = \"sentences\"\n",
    "    \n",
    "    countSentences = len(file[keyJson])\n",
    "    \n",
    "    result_list = []\n",
    "    \n",
    "    for k in range(countSentences):\n",
    "        sentence = file[key][k][\"text\"]\n",
    "\n",
    "        len_timex3 = len(file[key][k][\"timex3\"])\n",
    "        len_event = len(file[key][k][\"event\"])\n",
    "        info_list = [[] for i in range(len_event+len_timex3)]\n",
    "\n",
    "        for i in range(len_event):\n",
    "            event_s, event_e = file[key][k][\"event\"][i][\"extent\"]\n",
    "            info_list[i].append(event_s)\n",
    "            info_list[i].append(event_e)\n",
    "            info_list[i].append('EVENT')\n",
    "\n",
    "        for i in range(len_timex3):\n",
    "            print(\"i:\", i, \"k:\", k)\n",
    "            timex3_s, timex3_e = file[key][k][\"timex3\"][i][\"extent\"]\n",
    "            info_list[i+len_event].append(timex3_s)\n",
    "            info_list[i+len_event].append(timex3_e)\n",
    "            info_list[i+len_event].append(file[key][k][\"timex3\"][i][\"type\"])\n",
    "\n",
    "        info_list.sort()\n",
    "\n",
    "        named_entity = [0 for i in range(len(sentence))]\n",
    "        for i in range(len(info_list)):\n",
    "            start = info_list[i][0]\n",
    "            end = info_list[i][1]\n",
    "            netype = info_list[i][2]\n",
    "            BorI = True\n",
    "            for j in range(start, end):\n",
    "                if BorI:\n",
    "                    named_entity[j] = (netype, '-B')\n",
    "                    BorI = False\n",
    "                else:\n",
    "                    named_entity[j] = (netype, '-I')\n",
    "\n",
    "        label = []\n",
    "        for i in range(len(sentence)):\n",
    "            if named_entity[i]:\n",
    "                label.append(named_entity[i][0]+named_entity[i][1])\n",
    "            else:\n",
    "                label.append('O')\n",
    "            \n",
    "        result = sentence + '\\t'\n",
    "        for i in range(len(label)):\n",
    "            result += label[i] + ' '\n",
    "        result = result.strip()\n",
    "        result_list.append(result)\n",
    "        \n",
    "    return result_list"
   ]
  },
  {
   "cell_type": "code",
   "execution_count": null,
   "id": "56358558",
   "metadata": {},
   "outputs": [],
   "source": [
    "def saveTxt(textname, filename, res):\n",
    "    f = open(\"./data/biotag/\"+textname+\"/\"+filename+\"txt\", \"w\")\n",
    "    for i in range(len(res)):\n",
    "        f.write(res[i]+'\\n')\n",
    "    f.close()"
   ]
  },
  {
   "cell_type": "code",
   "execution_count": 6,
   "id": "c39a8c9a",
   "metadata": {},
   "outputs": [],
   "source": [
    "text_name = [\"chat\", \"news\"]\n",
    "file_list = []\n",
    "for i in range(len(text_name)):\n",
    "    file_list.append(os.listdir(\"./data/raw/sample/\"+text_name[i]))"
   ]
  },
  {
   "cell_type": "code",
   "execution_count": 7,
   "id": "086f096f",
   "metadata": {},
   "outputs": [
    {
     "data": {
      "text/plain": [
       "['대화06-5d4f682c.txt.json',\n",
       " '대화07-5e938466.txt.json',\n",
       " '대화05-4ec686e4.txt.json',\n",
       " '대화03-2ca063cb.txt.json',\n",
       " '대화01-01397ada.txt.json',\n",
       " '대화11-bfc0f894.txt.json',\n",
       " '대화10-bc57d852.txt.json',\n",
       " '대화13-ed066712.txt.json',\n",
       " '대화04-35c9421e.txt.json',\n",
       " '대화12-d8679247.txt.json',\n",
       " '대화02-1ac4b34b.txt.json',\n",
       " '대화08-5f38abfb.txt.json',\n",
       " '대화09-7dab8db4.txt.json']"
      ]
     },
     "execution_count": 7,
     "metadata": {},
     "output_type": "execute_result"
    }
   ],
   "source": [
    "file_list[0]"
   ]
  },
  {
   "cell_type": "code",
   "execution_count": 8,
   "id": "2957d63f",
   "metadata": {
    "scrolled": true
   },
   "outputs": [
    {
     "data": {
      "text/plain": [
       "['매일경제043.txt.json',\n",
       " '매일경제022.txt.json',\n",
       " '매일경제021.txt.json',\n",
       " '매일경제034.txt.json',\n",
       " '매일경제004.txt.json',\n",
       " '매일경제024.txt.json',\n",
       " '매일경제002.txt.json',\n",
       " '매일경제008.txt.json',\n",
       " '매일경제017.txt.json',\n",
       " '매일경제040.txt.json',\n",
       " '매일경제001.txt.json',\n",
       " '매일경제028.txt.json',\n",
       " '매일경제044.txt.json',\n",
       " '매일경제003.txt.json',\n",
       " '매일경제012.txt.json',\n",
       " '매일경제030.txt.json',\n",
       " '매일경제041.txt.json',\n",
       " '매일경제010.txt.json',\n",
       " '매일경제032.txt.json',\n",
       " '매일경제014.txt.json',\n",
       " '매일경제038.txt.json',\n",
       " '매일경제033.txt.json',\n",
       " '매일경제042.txt.json',\n",
       " '매일경제016.txt.json',\n",
       " '매일경제039.txt.json',\n",
       " '매일경제031.txt.json',\n",
       " '매일경제015.txt.json',\n",
       " '매일경제035.txt.json',\n",
       " '매일경제011.txt.json',\n",
       " '매일경제018.txt.json',\n",
       " '매일경제029.txt.json',\n",
       " '매일경제025.txt.json',\n",
       " '매일경제037.txt.json',\n",
       " '매일경제020.txt.json',\n",
       " '매일경제007.txt.json',\n",
       " '매일경제013.txt.json',\n",
       " '매일경제019.txt.json',\n",
       " '매일경제026.txt.json',\n",
       " '매일경제027.txt.json',\n",
       " '매일경제009.txt.json',\n",
       " '매일경제023.txt.json',\n",
       " '매일경제006.txt.json',\n",
       " '매일경제005.txt.json',\n",
       " '매일경제036.txt.json']"
      ]
     },
     "execution_count": 8,
     "metadata": {},
     "output_type": "execute_result"
    }
   ],
   "source": [
    "file_list[1]"
   ]
  },
  {
   "cell_type": "code",
   "execution_count": null,
   "id": "2551b835",
   "metadata": {},
   "outputs": [],
   "source": []
  }
 ],
 "metadata": {
  "kernelspec": {
   "display_name": "Python 3 (ipykernel)",
   "language": "python",
   "name": "python3"
  },
  "language_info": {
   "codemirror_mode": {
    "name": "ipython",
    "version": 3
   },
   "file_extension": ".py",
   "mimetype": "text/x-python",
   "name": "python",
   "nbconvert_exporter": "python",
   "pygments_lexer": "ipython3",
   "version": "3.8.10"
  }
 },
 "nbformat": 4,
 "nbformat_minor": 5
}
