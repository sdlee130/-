{
 "cells": [
  {
   "cell_type": "code",
   "execution_count": 1,
   "id": "0bf61bed",
   "metadata": {},
   "outputs": [],
   "source": [
    "import json\n",
    "import os"
   ]
  },
  {
   "cell_type": "code",
   "execution_count": 2,
   "id": "049f8071",
   "metadata": {},
   "outputs": [],
   "source": [
    "def ParsingJson(textname, filename):\n",
    "    with open(\"./data/raw/sample/\"+textname+\"/\"+filename+\".json\", \"r\", encoding=\"utf8\") as f:\n",
    "        contents = f.read()\n",
    "        file = json.loads(contents)\n",
    "    keyJson = []\n",
    "    if textname==\"chat\":\n",
    "        keyJson = \"utterances\"\n",
    "    elif textname==\"news\":\n",
    "        keyJson = \"sentences\"\n",
    "    \n",
    "    countSentences = len(file[keyJson])\n",
    "    \n",
    "    result_list = []\n",
    "    \n",
    "    for k in range(countSentences):\n",
    "        sentence = file[keyJson][k][\"text\"]\n",
    "\n",
    "        len_timex3 = len(file[keyJson][k][\"timex3\"])\n",
    "        len_event = len(file[keyJson][k][\"event\"])\n",
    "        info_list = [[] for i in range(len_event+len_timex3)]\n",
    "\n",
    "        for i in range(len_event):\n",
    "            event_s, event_e = file[keyJson][k][\"event\"][i][\"extent\"]\n",
    "            info_list[i].append(event_s)\n",
    "            info_list[i].append(event_e)\n",
    "            info_list[i].append(file[keyJson][k][\"event\"][i][\"class\"])\n",
    "\n",
    "        for i in range(len_timex3):\n",
    "            timex3_s, timex3_e = file[keyJson][k][\"timex3\"][i][\"extent\"]\n",
    "            info_list[i+len_event].append(timex3_s)\n",
    "            info_list[i+len_event].append(timex3_e)\n",
    "            info_list[i+len_event].append(file[keyJson][k][\"timex3\"][i][\"type\"])\n",
    "            \n",
    "\n",
    "        info_list.sort()\n",
    "        print(info_list)\n",
    "\n",
    "        named_entity = [0 for i in range(len(sentence))]\n",
    "        for i in range(len(info_list)):\n",
    "            start = info_list[i][0]\n",
    "            end = info_list[i][1]\n",
    "            netype = info_list[i][2]\n",
    "            BorI = True\n",
    "            for j in range(start, end):\n",
    "                if BorI:\n",
    "                    named_entity[j] = (netype, '-B')\n",
    "                    BorI = False\n",
    "                else:\n",
    "                    named_entity[j] = (netype, '-I')\n",
    "\n",
    "        label = []\n",
    "        for i in range(len(sentence)):\n",
    "            if named_entity[i]:\n",
    "                label.append(named_entity[i][0]+named_entity[i][1])\n",
    "            else:\n",
    "                label.append('O')\n",
    "            \n",
    "        result = sentence + '\\t'\n",
    "        for i in range(len(label)):\n",
    "            result += label[i] + ' '\n",
    "        result = result.strip()\n",
    "        result_list.append(result)\n",
    "        \n",
    "        # 탭 문자 하나 더 넣고 tlink 넣기\n",
    "        for i in range(len(result_list)):\n",
    "            result_list[i] = result_list[i] + '\\t'\n",
    "            \n",
    "        tlinkList = file[\"tlink\"]\n",
    "        for i in range(len(tlinkList)):\n",
    "            timex3NE = tlinkList[i][\"arg1\"]\n",
    "            eventNE = tlinkList[i][\"arg2\"]\n",
    "            sen_index = int(timex3NE.split('_')[1][1:])\n",
    "            tne_index = int(timex3NE.split('_')[2])\n",
    "            ene_index = int(eventNE.split('_')[2])\n",
    "            print(i, index)\n",
    "            if (file[keyJson][index][\"timex3\"][tne_index][\"id\"] == timex3NE):\n",
    "                if (file[keyJson][index][\"event\"][ene_index][\"id\"] == eventNE):\n",
    "                    time_link = file[keyJson][index][\"timex3\"][tne_index][\"text\"]\n",
    "                    event_link = file[keyJson][index][\"event\"][ene_index][\"text\"]\n",
    "                    tlink_type = tlinkList[i][\"relType\"]\n",
    "                    res_tlink = time_link+\" \"+event_link+\" \"+tlink_type\n",
    "                    result_list[index] = result_list[index] + res_tlink\n",
    "        # 예상 result_list[i]의 모습\n",
    "        # 문장 \\t BIO tag \\t 시간표현 \\s 사건표현 \\s 관계\n",
    "    return result_list"
   ]
  },
  {
   "cell_type": "code",
   "execution_count": 3,
   "id": "1ee1e485",
   "metadata": {},
   "outputs": [],
   "source": [
    "def saveTxt(textname, filename, res):\n",
    "    f = open(\"./data/tlink/\"+textname+\"/\"+filename, \"w\")\n",
    "    for i in range(len(res)):\n",
    "        f.write(res[i]+'\\n')\n",
    "    f.close()"
   ]
  },
  {
   "cell_type": "code",
   "execution_count": 4,
   "id": "d547ce99",
   "metadata": {},
   "outputs": [],
   "source": [
    "# 파일이름 받아오기\n",
    "\n",
    "text_name = [\"chat\", \"news\"]\n",
    "file_list = []\n",
    "for i in range(len(text_name)):\n",
    "    file_list.append(os.listdir(\"./data/raw/sample/\"+text_name[i]))"
   ]
  },
  {
   "cell_type": "code",
   "execution_count": 5,
   "id": "37dc91b8",
   "metadata": {},
   "outputs": [],
   "source": [
    "for i in range(len(file_list)):\n",
    "    for j in range(len(file_list[i])):\n",
    "        listFilename = file_list[i][j].split('.')[:-1]\n",
    "        file_list[i][j] = listFilename[0] + '.' + listFilename[1]"
   ]
  },
  {
   "cell_type": "code",
   "execution_count": 6,
   "id": "f3e804d1",
   "metadata": {},
   "outputs": [
    {
     "name": "stdout",
     "output_type": "stream",
     "text": [
      "[[15, 18, 'OCCURRENCE', 'EVENT_S0_0', '늘어나'], [27, 28, 'OCCURRENCE', 'EVENT_S0_1', '하']]\n",
      "0 2\n"
     ]
    },
    {
     "ename": "IndexError",
     "evalue": "list index out of range",
     "output_type": "error",
     "traceback": [
      "\u001b[0;31m---------------------------------------------------------------------------\u001b[0m",
      "\u001b[0;31mIndexError\u001b[0m                                Traceback (most recent call last)",
      "Input \u001b[0;32mIn [6]\u001b[0m, in \u001b[0;36m<cell line: 3>\u001b[0;34m()\u001b[0m\n\u001b[1;32m      3\u001b[0m \u001b[38;5;28;01mfor\u001b[39;00m i \u001b[38;5;129;01min\u001b[39;00m \u001b[38;5;28mrange\u001b[39m(\u001b[38;5;28mlen\u001b[39m(file_list)):\n\u001b[1;32m      4\u001b[0m     \u001b[38;5;28;01mfor\u001b[39;00m j \u001b[38;5;129;01min\u001b[39;00m \u001b[38;5;28mrange\u001b[39m(\u001b[38;5;28mlen\u001b[39m(file_list[i])):\n\u001b[0;32m----> 5\u001b[0m         result \u001b[38;5;241m=\u001b[39m \u001b[43mParsingJson\u001b[49m\u001b[43m(\u001b[49m\u001b[43mtext_name\u001b[49m\u001b[43m[\u001b[49m\u001b[43mi\u001b[49m\u001b[43m]\u001b[49m\u001b[43m,\u001b[49m\u001b[43m \u001b[49m\u001b[43mfile_list\u001b[49m\u001b[43m[\u001b[49m\u001b[43mi\u001b[49m\u001b[43m]\u001b[49m\u001b[43m[\u001b[49m\u001b[43mj\u001b[49m\u001b[43m]\u001b[49m\u001b[43m)\u001b[49m\n\u001b[1;32m      6\u001b[0m         saveTxt(text_name[i], file_list[i][j], result)\n",
      "Input \u001b[0;32mIn [2]\u001b[0m, in \u001b[0;36mParsingJson\u001b[0;34m(textname, filename)\u001b[0m\n\u001b[1;32m     76\u001b[0m index \u001b[38;5;241m=\u001b[39m \u001b[38;5;28mint\u001b[39m(timex3NE\u001b[38;5;241m.\u001b[39msplit(\u001b[38;5;124m'\u001b[39m\u001b[38;5;124m_\u001b[39m\u001b[38;5;124m'\u001b[39m)[\u001b[38;5;241m1\u001b[39m][\u001b[38;5;241m1\u001b[39m:])\n\u001b[1;32m     77\u001b[0m \u001b[38;5;28mprint\u001b[39m(i, index)\n\u001b[0;32m---> 78\u001b[0m \u001b[38;5;28;01mif\u001b[39;00m (\u001b[43minfo_list\u001b[49m\u001b[43m[\u001b[49m\u001b[43mindex\u001b[49m\u001b[43m]\u001b[49m[\u001b[38;5;241m3\u001b[39m] \u001b[38;5;241m==\u001b[39m timex3NE):\n\u001b[1;32m     79\u001b[0m     \u001b[38;5;28;01mif\u001b[39;00m (info_list[index][\u001b[38;5;241m3\u001b[39m] \u001b[38;5;241m==\u001b[39m eventNE):\n\u001b[1;32m     80\u001b[0m         time_link \u001b[38;5;241m=\u001b[39m info_list[timex3NE\u001b[38;5;241m.\u001b[39msplit(\u001b[38;5;124m'\u001b[39m\u001b[38;5;124m_\u001b[39m\u001b[38;5;124m'\u001b[39m)[\u001b[38;5;241m2\u001b[39m]][\u001b[38;5;241m4\u001b[39m]\n",
      "\u001b[0;31mIndexError\u001b[0m: list index out of range"
     ]
    }
   ],
   "source": [
    "# json파일에서 데이터 추출하기\n",
    "\n",
    "for i in range(len(file_list)):\n",
    "    for j in range(len(file_list[i])):\n",
    "        result = ParsingJson(text_name[i], file_list[i][j])\n",
    "        saveTxt(text_name[i], file_list[i][j], result)"
   ]
  },
  {
   "cell_type": "code",
   "execution_count": null,
   "id": "794deaaa",
   "metadata": {},
   "outputs": [],
   "source": [
    "print(result)"
   ]
  },
  {
   "cell_type": "code",
   "execution_count": null,
   "id": "eae50287",
   "metadata": {},
   "outputs": [],
   "source": []
  }
 ],
 "metadata": {
  "kernelspec": {
   "display_name": "Python 3 (ipykernel)",
   "language": "python",
   "name": "python3"
  },
  "language_info": {
   "codemirror_mode": {
    "name": "ipython",
    "version": 3
   },
   "file_extension": ".py",
   "mimetype": "text/x-python",
   "name": "python",
   "nbconvert_exporter": "python",
   "pygments_lexer": "ipython3",
   "version": "3.8.10"
  }
 },
 "nbformat": 4,
 "nbformat_minor": 5
}
