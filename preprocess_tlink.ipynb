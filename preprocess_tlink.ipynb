{
 "cells": [
  {
   "cell_type": "code",
   "execution_count": 1,
   "id": "0bf61bed",
   "metadata": {},
   "outputs": [],
   "source": [
    "import json\n",
    "import os"
   ]
  },
  {
   "cell_type": "code",
   "execution_count": 2,
   "id": "049f8071",
   "metadata": {},
   "outputs": [],
   "source": [
    "def ParsingJson(textname, filename):\n",
    "    with open(\"./data/raw/sample/\"+textname+\"/\"+filename+\".json\", \"r\", encoding=\"utf8\") as f:\n",
    "        contents = f.read()\n",
    "        file = json.loads(contents)\n",
    "    keyJson = []\n",
    "    if textname==\"chat\":\n",
    "        keyJson = \"utterances\"\n",
    "    elif textname==\"news\":\n",
    "        keyJson = \"sentences\"\n",
    "    \n",
    "    countSentences = len(file[keyJson])\n",
    "    \n",
    "    result_list = []\n",
    "    \n",
    "    for k in range(countSentences):\n",
    "        sentence = file[keyJson][k][\"text\"]\n",
    "\n",
    "        len_timex3 = len(file[keyJson][k][\"timex3\"])\n",
    "        len_event = len(file[keyJson][k][\"event\"])\n",
    "        info_list = [[] for i in range(len_event+len_timex3)]\n",
    "\n",
    "        for i in range(len_event):\n",
    "            event_s, event_e = file[keyJson][k][\"event\"][i][\"extent\"]\n",
    "            info_list[i].append(event_s)\n",
    "            info_list[i].append(event_e)\n",
    "            info_list[i].append(file[keyJson][k][\"event\"][i][\"class\"])\n",
    "\n",
    "        for i in range(len_timex3):\n",
    "            timex3_s, timex3_e = file[keyJson][k][\"timex3\"][i][\"extent\"]\n",
    "            info_list[i+len_event].append(timex3_s)\n",
    "            info_list[i+len_event].append(timex3_e)\n",
    "            info_list[i+len_event].append(file[keyJson][k][\"timex3\"][i][\"type\"])\n",
    "            \n",
    "\n",
    "        info_list.sort()\n",
    "        print(info_list)\n",
    "\n",
    "        named_entity = [0 for i in range(len(sentence))]\n",
    "        for i in range(len(info_list)):\n",
    "            start = info_list[i][0]\n",
    "            end = info_list[i][1]\n",
    "            netype = info_list[i][2]\n",
    "            BorI = True\n",
    "            for j in range(start, end):\n",
    "                if BorI:\n",
    "                    named_entity[j] = (netype, '-B')\n",
    "                    BorI = False\n",
    "                else:\n",
    "                    named_entity[j] = (netype, '-I')\n",
    "\n",
    "        label = []\n",
    "        for i in range(len(sentence)):\n",
    "            if named_entity[i]:\n",
    "                label.append(named_entity[i][0]+named_entity[i][1])\n",
    "            else:\n",
    "                label.append('O')\n",
    "            \n",
    "        result = sentence + '\\t'\n",
    "        for i in range(len(label)):\n",
    "            result += label[i] + ' '\n",
    "        result = result.strip()\n",
    "        result += '\\t'\n",
    "        \n",
    "        print(result)\n",
    "        \n",
    "        tlinkList = file[\"tlink\"]\n",
    "        for i in range(len(tlinkList)):\n",
    "            timex3NE = tlinkList[i][\"arg1\"]\n",
    "            eventNE = tlinkList[i][\"arg2\"]\n",
    "            sen_index = int(timex3NE.split('_')[1][1:])\n",
    "            if (len_timex3 >= sen_index):\n",
    "                if (len_event >= sen_index):\n",
    "                    tne_index = int(timex3NE.split('_')[2])\n",
    "                    ene_index = int(eventNE.split('_')[2])\n",
    "                    print(tne_index, type(tne_index), ene_index, type(ene_index))\n",
    "\n",
    "                    if (file[keyJson][k][\"timex3\"][tne_index][\"id\"] == timex3NE):\n",
    "                        if (file[keyJson][k][\"event\"][ene_index][\"id\"] == eventNE):\n",
    "                            time_link = file[keyJson][k][\"timex3\"][tne_index][\"text\"]\n",
    "                            event_link = file[keyJson][k][\"event\"][ene_index][\"text\"]\n",
    "                            tlink_type = tlinkList[i][\"relType\"]\n",
    "                            res_tlink = time_link+\" \"+event_link+\" \"+tlink_type\n",
    "                            result = result + res_tlink\n",
    "                            print(result)\n",
    "                            \n",
    "        result_list.append(result)\n",
    "        # 예상 result_list[i]의 모습\n",
    "        # 문장 \\t BIO tag \\t 시간표현 \\s 사건표현 \\s 관계\n",
    "    return result_list"
   ]
  },
  {
   "cell_type": "code",
   "execution_count": 3,
   "id": "1ee1e485",
   "metadata": {},
   "outputs": [],
   "source": [
    "def saveTxt(textname, filename, res):\n",
    "    f = open(\"./data/tlink/\"+textname+\"/\"+filename, \"w\")\n",
    "    for i in range(len(res)):\n",
    "        f.write(res[i]+'\\n')\n",
    "    f.close()"
   ]
  },
  {
   "cell_type": "code",
   "execution_count": 4,
   "id": "d547ce99",
   "metadata": {},
   "outputs": [],
   "source": [
    "# 파일이름 받아오기\n",
    "\n",
    "text_name = [\"chat\", \"news\"]\n",
    "file_list = []\n",
    "for i in range(len(text_name)):\n",
    "    file_list.append(os.listdir(\"./data/raw/sample/\"+text_name[i]))"
   ]
  },
  {
   "cell_type": "code",
   "execution_count": 5,
   "id": "37dc91b8",
   "metadata": {},
   "outputs": [],
   "source": [
    "for i in range(len(file_list)):\n",
    "    for j in range(len(file_list[i])):\n",
    "        listFilename = file_list[i][j].split('.')[:-1]\n",
    "        file_list[i][j] = listFilename[0] + '.' + listFilename[1]"
   ]
  },
  {
   "cell_type": "code",
   "execution_count": 6,
   "id": "942d5714",
   "metadata": {},
   "outputs": [
    {
     "name": "stdout",
     "output_type": "stream",
     "text": [
      "[[15, 18, 'OCCURRENCE'], [27, 28, 'OCCURRENCE']]\n",
      "데이팅 앱을 쓰는 사람들이 늘어나는데 어떻게 생각하세요?\tO O O O O O O O O O O O O O O OCCURRENCE-B OCCURRENCE-I OCCURRENCE-I O O O O O O O O O OCCURRENCE-B O O O\t\n",
      "[[18, 21, 'OCCURRENCE'], [29, 32, 'OCCURRENCE'], [31, 32, 'OCCURRENCE'], [34, 35, 'I_STATE']]\n",
      "사람을 만나는 수단 중 하나라고 생각해서 나쁘다고는 생각하지 않아요.\tO O O O O O O O O O O O O O O O O O OCCURRENCE-B OCCURRENCE-I OCCURRENCE-I O O O O O O O O OCCURRENCE-B OCCURRENCE-I OCCURRENCE-B O O I_STATE-B O O O\t\n",
      "[[18, 21, 'OCCURRENCE'], [23, 25, 'DATE'], [32, 33, 'OCCURRENCE'], [38, 39, 'OCCURRENCE']]\n",
      "제 지인 중에서도 앱으로 연애를 시작해서 작년에 결혼까지 한 사람이 있어요.\tO O O O O O O O O O O O O O O O O O OCCURRENCE-B OCCURRENCE-I OCCURRENCE-I O O DATE-B DATE-I O O O O O O O OCCURRENCE-B O O O O O OCCURRENCE-B O O O\t\n",
      "[[8, 10, 'DATE'], [13, 14, 'OCCURRENCE'], [26, 27, 'OCCURRENCE']]\n",
      "저도 궁금해서 어제 깔아봤는데 아직은 거부감이 있더라고요,\tO O O O O O O O DATE-B DATE-I O O O OCCURRENCE-B O O O O O O O O O O O O OCCURRENCE-B O O O O O\t\n",
      "[[12, 13, 'OCCURRENCE'], [25, 28, 'OCCURRENCE'], [34, 35, 'OCCURRENCE'], [39, 40, 'OCCURRENCE']]\n",
      "맞아요 아직 거부감은 있지만 그래도 선택지가 늘어나는 거니까 좋은 거 같아요.\tO O O O O O O O O O O O OCCURRENCE-B O O O O O O O O O O O O OCCURRENCE-B OCCURRENCE-I OCCURRENCE-I O O O O O O OCCURRENCE-B O O O O OCCURRENCE-B O O O\t\n",
      "[[0, 2, 'DATE'], [13, 14, 'OCCURRENCE'], [35, 36, 'OCCURRENCE']]\n",
      "지금 연애를 쉰지 조금 되었는데 오늘 앱을 깔아서 한번 도전해 봐야겠네요.\tDATE-B DATE-I O O O O O O O O O O O OCCURRENCE-B O O O O O O O O O O O O O O O O O O O O O OCCURRENCE-B O O O O O\t\n",
      "[[3, 4, 'OCCURRENCE'], [8, 9, 'OCCURRENCE'], [19, 20, 'OCCURRENCE'], [27, 28, 'OCCURRENCE']]\n",
      "아직 가보지 못했지만 버킷리스트에 있는 여행지가 있나요?\tO O O OCCURRENCE-B O O O O OCCURRENCE-B O O O O O O O O O O OCCURRENCE-B O O O O O O O OCCURRENCE-B O O O\t\n",
      "[[8, 9, 'OCCURRENCE'], [27, 28, 'OCCURRENCE']]\n",
      "저는 스페인에 있는 사그라다 파밀리아 성당을 꼭 가보고 싶어요.\tO O O O O O O O OCCURRENCE-B O O O O O O O O O O O O O O O O O O OCCURRENCE-B O O O O O O O\t\n",
      "[[14, 15, 'OCCURRENCE']]\n",
      "언제 그곳을 버킷리스트에 넣었나요?\tO O O O O O O O O O O O O O OCCURRENCE-B O O O O\t\n",
      "[[0, 5, 'DATE'], [26, 27, 'OCCURRENCE'], [34, 36, 'OCCURRENCE']]\n",
      "10년 전 고등학교 미술시간에 가우디 작품들을 보다가 마음에 꽂혀버렸습니다.\tDATE-B DATE-I DATE-I DATE-I DATE-I O O O O O O O O O O O O O O O O O O O O O OCCURRENCE-B O O O O O O O OCCURRENCE-B OCCURRENCE-I O O O O O O\t\n",
      "[[3, 4, 'OCCURRENCE'], [15, 16, 'OCCURRENCE']]\n",
      "혹시 가보고 싶은 여행지가 있으신가요?\tO O O OCCURRENCE-B O O O O O O O O O O O OCCURRENCE-B O O O O O\t\n",
      "[[18, 19, 'OCCURRENCE'], [37, 38, 'OCCURRENCE'], [47, 48, 'OCCURRENCE'], [53, 54, 'OCCURRENCE']]\n",
      "저는 캐나다에 나이아가라 폭포를 가보고 싶은데 국내 폭포들을 많이 봤지만 성에 차지 않아서 꼭 가보고 싶습니다.\tO O O O O O O O O O O O O O O O O O OCCURRENCE-B O O O O O O O O O O O O O O O O O O OCCURRENCE-B O O O O O O O O O OCCURRENCE-B O O O O O OCCURRENCE-B O O O O O O O O\t\n",
      "[[0, 3, 'DATE'], [18, 19, 'OCCURRENCE'], [36, 37, 'OCCURRENCE']]\n",
      "지난주에 제 지인이 롱디 커플이 되었는데 롱디 커플이 오래갈 수 있을까요?\tDATE-B DATE-I DATE-I O O O O O O O O O O O O O O O OCCURRENCE-B O O O O O O O O O O O O O O O O O OCCURRENCE-B O O O O\t\n",
      "0 <class 'int'> 0 <class 'int'>\n"
     ]
    },
    {
     "ename": "TypeError",
     "evalue": "can only concatenate list (not \"str\") to list",
     "output_type": "error",
     "traceback": [
      "\u001b[0;31m---------------------------------------------------------------------------\u001b[0m",
      "\u001b[0;31mTypeError\u001b[0m                                 Traceback (most recent call last)",
      "Input \u001b[0;32mIn [6]\u001b[0m, in \u001b[0;36m<cell line: 3>\u001b[0;34m()\u001b[0m\n\u001b[1;32m      3\u001b[0m \u001b[38;5;28;01mfor\u001b[39;00m i \u001b[38;5;129;01min\u001b[39;00m \u001b[38;5;28mrange\u001b[39m(\u001b[38;5;28mlen\u001b[39m(file_list)):\n\u001b[1;32m      4\u001b[0m     \u001b[38;5;28;01mfor\u001b[39;00m j \u001b[38;5;129;01min\u001b[39;00m \u001b[38;5;28mrange\u001b[39m(\u001b[38;5;28mlen\u001b[39m(file_list[i])):\n\u001b[0;32m----> 5\u001b[0m         result \u001b[38;5;241m=\u001b[39m \u001b[43mParsingJson\u001b[49m\u001b[43m(\u001b[49m\u001b[43mtext_name\u001b[49m\u001b[43m[\u001b[49m\u001b[43mi\u001b[49m\u001b[43m]\u001b[49m\u001b[43m,\u001b[49m\u001b[43m \u001b[49m\u001b[43mfile_list\u001b[49m\u001b[43m[\u001b[49m\u001b[43mi\u001b[49m\u001b[43m]\u001b[49m\u001b[43m[\u001b[49m\u001b[43mj\u001b[49m\u001b[43m]\u001b[49m\u001b[43m)\u001b[49m\n\u001b[1;32m      6\u001b[0m         saveTxt(text_name[i], file_list[i][j], result)\n",
      "Input \u001b[0;32mIn [2]\u001b[0m, in \u001b[0;36mParsingJson\u001b[0;34m(textname, filename)\u001b[0m\n\u001b[1;32m     82\u001b[0m                     tlink_type \u001b[38;5;241m=\u001b[39m tlinkList[i][\u001b[38;5;124m\"\u001b[39m\u001b[38;5;124mrelType\u001b[39m\u001b[38;5;124m\"\u001b[39m]\n\u001b[1;32m     83\u001b[0m                     res_tlink \u001b[38;5;241m=\u001b[39m time_link\u001b[38;5;241m+\u001b[39m\u001b[38;5;124m\"\u001b[39m\u001b[38;5;124m \u001b[39m\u001b[38;5;124m\"\u001b[39m\u001b[38;5;241m+\u001b[39mevent_link\u001b[38;5;241m+\u001b[39m\u001b[38;5;124m\"\u001b[39m\u001b[38;5;124m \u001b[39m\u001b[38;5;124m\"\u001b[39m\u001b[38;5;241m+\u001b[39mtlink_type\n\u001b[0;32m---> 84\u001b[0m                     result_list \u001b[38;5;241m=\u001b[39m \u001b[43mresult_list\u001b[49m\u001b[43m \u001b[49m\u001b[38;5;241;43m+\u001b[39;49m\u001b[43m \u001b[49m\u001b[43mres_tlink\u001b[49m\n\u001b[1;32m     85\u001b[0m                     \u001b[38;5;28mprint\u001b[39m(result_list)\n\u001b[1;32m     86\u001b[0m \u001b[38;5;66;03m# 예상 result_list[i]의 모습\u001b[39;00m\n\u001b[1;32m     87\u001b[0m \u001b[38;5;66;03m# 문장 \\t BIO tag \\t 시간표현 \\s 사건표현 \\s 관계\u001b[39;00m\n",
      "\u001b[0;31mTypeError\u001b[0m: can only concatenate list (not \"str\") to list"
     ]
    }
   ],
   "source": [
    "# json파일에서 데이터 추출하기\n",
    "\n",
    "for i in range(len(file_list)):\n",
    "    for j in range(len(file_list[i])):\n",
    "        result = ParsingJson(text_name[i], file_list[i][j])\n",
    "        saveTxt(text_name[i], file_list[i][j], result)"
   ]
  },
  {
   "cell_type": "code",
   "execution_count": null,
   "id": "6af7ad09",
   "metadata": {},
   "outputs": [],
   "source": [
    "print(result)"
   ]
  },
  {
   "cell_type": "code",
   "execution_count": null,
   "id": "a72c6134",
   "metadata": {},
   "outputs": [],
   "source": []
  }
 ],
 "metadata": {
  "kernelspec": {
   "display_name": "Python 3 (ipykernel)",
   "language": "python",
   "name": "python3"
  },
  "language_info": {
   "codemirror_mode": {
    "name": "ipython",
    "version": 3
   },
   "file_extension": ".py",
   "mimetype": "text/x-python",
   "name": "python",
   "nbconvert_exporter": "python",
   "pygments_lexer": "ipython3",
   "version": "3.8.10"
  }
 },
 "nbformat": 4,
 "nbformat_minor": 5
}
